{
 "cells": [
  {
   "cell_type": "code",
   "execution_count": 4,
   "id": "c6bd13b7",
   "metadata": {},
   "outputs": [
    {
     "name": "stdout",
     "output_type": "stream",
     "text": [
      "How much is your dinner? 100\n",
      "How much percentage you would like to tip?15\n",
      "Your tip will be 15.0\n"
     ]
    }
   ],
   "source": [
    "dinner_cost=input('How much is your dinner? ')\n",
    "dinner_cost=float(dinner_cost)\n",
    "tip_percent=input('How much percentage you would like to tip?')\n",
    "tip_percent=float(tip_percent)\n",
    "tip=tip_percent/100*dinner_cost\n",
    "print('Your tip will be', tip)\n"
   ]
  },
  {
   "cell_type": "code",
   "execution_count": 7,
   "id": "d31be7fe",
   "metadata": {},
   "outputs": [],
   "source": [
    "def tip_calculartor():\n",
    "    dinner_cost=input('How much is your dinner? ')\n",
    "    dinner_cost=float(dinner_cost)\n",
    "    tip_percent=input('How much percentage you would like to tip?')\n",
    "    tip_percent=float(tip_percent)\n",
    "    tip=tip_percent/100*dinner_cost\n",
    "    print('Your tip will be', tip,'$.')"
   ]
  },
  {
   "cell_type": "code",
   "execution_count": 8,
   "id": "5b91647d",
   "metadata": {},
   "outputs": [
    {
     "name": "stdout",
     "output_type": "stream",
     "text": [
      "How much is your dinner? 100\n",
      "How much percentage you would like to tip?18\n",
      "Your tip will be 18.0 $\n"
     ]
    }
   ],
   "source": [
    "tip_calculartor()"
   ]
  },
  {
   "cell_type": "code",
   "execution_count": 9,
   "id": "a3537d7f",
   "metadata": {},
   "outputs": [
    {
     "name": "stdout",
     "output_type": "stream",
     "text": [
      "Your tip will be 27.0 $.\n"
     ]
    }
   ],
   "source": [
    "def tip_calculartor2(dinner_cost,tip_percent):\n",
    "    tip=tip_percent/100*dinner_cost\n",
    "    print('Your tip will be', tip,'$.')\n",
    "\n",
    "tip_calculartor2(180,15)    "
   ]
  },
  {
   "cell_type": "code",
   "execution_count": 15,
   "id": "6ced5e09",
   "metadata": {},
   "outputs": [
    {
     "name": "stdout",
     "output_type": "stream",
     "text": [
      "Your tip will be 15.0 $.\n",
      "None\n"
     ]
    }
   ],
   "source": [
    "final_tip=tip_calculartor2(100,15)\n",
    "print(final_tip)"
   ]
  },
  {
   "cell_type": "code",
   "execution_count": 10,
   "id": "1c0da4bf",
   "metadata": {},
   "outputs": [
    {
     "name": "stdout",
     "output_type": "stream",
     "text": [
      "How much is your dinner? 200\n",
      "How much percentage you would like to tip?18\n",
      "Your tip will be 36.0 $.\n"
     ]
    }
   ],
   "source": [
    "dinner_cost=input('How much is your dinner? ')\n",
    "dinner_cost=float(dinner_cost)\n",
    "tip_percent=input('How much percentage you would like to tip?')\n",
    "tip_percent=float(tip_percent)\n",
    "tip_calculartor2(dinner_cost,tip_percent)  "
   ]
  },
  {
   "cell_type": "code",
   "execution_count": 11,
   "id": "93e66af8",
   "metadata": {},
   "outputs": [],
   "source": [
    "def tip_calculartor3(dinner_cost,tip_percent):\n",
    "    tip=tip_percent/100*dinner_cost\n",
    "    return tip"
   ]
  },
  {
   "cell_type": "code",
   "execution_count": 12,
   "id": "943b857c",
   "metadata": {},
   "outputs": [
    {
     "data": {
      "text/plain": [
       "15.0"
      ]
     },
     "execution_count": 12,
     "metadata": {},
     "output_type": "execute_result"
    }
   ],
   "source": [
    "tip_calculartor3(100,15)"
   ]
  },
  {
   "cell_type": "code",
   "execution_count": 13,
   "id": "6427dba6",
   "metadata": {},
   "outputs": [
    {
     "name": "stdout",
     "output_type": "stream",
     "text": [
      "15.0\n"
     ]
    }
   ],
   "source": [
    "final_tip=tip_calculartor3(100,15)\n",
    "print(final_tip)"
   ]
  },
  {
   "cell_type": "code",
   "execution_count": 16,
   "id": "360476c6",
   "metadata": {},
   "outputs": [],
   "source": [
    "def tax_calculartor(dinner_cost,tax_percent):\n",
    "    tax=tax_percent/100*dinner_cost\n",
    "    return tax "
   ]
  },
  {
   "cell_type": "code",
   "execution_count": 17,
   "id": "f1ed321e",
   "metadata": {},
   "outputs": [
    {
     "data": {
      "text/plain": [
       "8.0"
      ]
     },
     "execution_count": 17,
     "metadata": {},
     "output_type": "execute_result"
    }
   ],
   "source": [
    "tax_calculartor(100,8)"
   ]
  },
  {
   "cell_type": "code",
   "execution_count": 19,
   "id": "78c634a4",
   "metadata": {},
   "outputs": [
    {
     "name": "stdout",
     "output_type": "stream",
     "text": [
      "How much is your dinner? 100\n",
      "How much percentage you would like to tip?15\n",
      "what is your state tax?8\n",
      "123.0\n"
     ]
    }
   ],
   "source": [
    "dinner_cost=input('How much is your dinner? ')\n",
    "dinner_cost=float(dinner_cost)\n",
    "tip_percent=input('How much percentage you would like to tip?')\n",
    "tip_percent=float(tip_percent)\n",
    "tax_percent=input('what is your state tax?')\n",
    "tax_percent=float(tax_percent)\n",
    "final_cost=tax_calculartor(dinner_cost,tax_percent)+tip_calculartor3(dinner_cost,tip_percent)+dinner_cost\n",
    "print(final_cost)\n"
   ]
  },
  {
   "cell_type": "code",
   "execution_count": 20,
   "id": "01eb03a1",
   "metadata": {},
   "outputs": [
    {
     "name": "stdout",
     "output_type": "stream",
     "text": [
      "How much is your dinner? 100\n",
      "How much percentage you would like to tip?15\n",
      "what is your state tax?8\n",
      "Your tip will be 15.0 $.\n"
     ]
    },
    {
     "ename": "TypeError",
     "evalue": "unsupported operand type(s) for +: 'float' and 'NoneType'",
     "output_type": "error",
     "traceback": [
      "\u001b[1;31m---------------------------------------------------------------------------\u001b[0m",
      "\u001b[1;31mTypeError\u001b[0m                                 Traceback (most recent call last)",
      "Cell \u001b[1;32mIn[20], line 7\u001b[0m\n\u001b[0;32m      5\u001b[0m tax_percent\u001b[38;5;241m=\u001b[39m\u001b[38;5;28minput\u001b[39m(\u001b[38;5;124m'\u001b[39m\u001b[38;5;124mwhat is your state tax?\u001b[39m\u001b[38;5;124m'\u001b[39m)\n\u001b[0;32m      6\u001b[0m tax_percent\u001b[38;5;241m=\u001b[39m\u001b[38;5;28mfloat\u001b[39m(tax_percent)\n\u001b[1;32m----> 7\u001b[0m final_cost\u001b[38;5;241m=\u001b[39mtax_calculartor(dinner_cost,tax_percent)\u001b[38;5;241m+\u001b[39mtip_calculartor2(dinner_cost,tip_percent)\u001b[38;5;241m+\u001b[39mdinner_cost\n\u001b[0;32m      8\u001b[0m \u001b[38;5;28mprint\u001b[39m(final_cost)\n",
      "\u001b[1;31mTypeError\u001b[0m: unsupported operand type(s) for +: 'float' and 'NoneType'"
     ]
    }
   ],
   "source": [
    "# WHEN USE print in v2 of tip_calculartor2, I won't get the anwer\n",
    "\n",
    "dinner_cost=input('How much is your dinner? ')\n",
    "dinner_cost=float(dinner_cost)\n",
    "tip_percent=input('How much percentage you would like to tip?')\n",
    "tip_percent=float(tip_percent)\n",
    "tax_percent=input('what is your state tax?')\n",
    "tax_percent=float(tax_percent)\n",
    "final_cost=tax_calculartor(dinner_cost,tax_percent)+tip_calculartor2(dinner_cost,tip_percent)+dinner_cost\n",
    "print(final_cost)\n"
   ]
  },
  {
   "cell_type": "code",
   "execution_count": null,
   "id": "1253fea6",
   "metadata": {},
   "outputs": [],
   "source": []
  }
 ],
 "metadata": {
  "kernelspec": {
   "display_name": "Python 3 (ipykernel)",
   "language": "python",
   "name": "python3"
  },
  "language_info": {
   "codemirror_mode": {
    "name": "ipython",
    "version": 3
   },
   "file_extension": ".py",
   "mimetype": "text/x-python",
   "name": "python",
   "nbconvert_exporter": "python",
   "pygments_lexer": "ipython3",
   "version": "3.11.5"
  }
 },
 "nbformat": 4,
 "nbformat_minor": 5
}
