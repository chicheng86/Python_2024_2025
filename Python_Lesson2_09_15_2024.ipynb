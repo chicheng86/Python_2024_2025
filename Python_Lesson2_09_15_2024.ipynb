{
 "cells": [
  {
   "cell_type": "code",
   "execution_count": 1,
   "id": "3ab988f8",
   "metadata": {},
   "outputs": [
    {
     "name": "stdout",
     "output_type": "stream",
     "text": [
      "hello!\n"
     ]
    }
   ],
   "source": [
    "print('hello!')"
   ]
  },
  {
   "cell_type": "code",
   "execution_count": 6,
   "id": "f3d217b3",
   "metadata": {},
   "outputs": [
    {
     "name": "stdout",
     "output_type": "stream",
     "text": [
      "Hello world!\n"
     ]
    }
   ],
   "source": [
    "# try to print out a sentence. e.g. hello world !\n",
    "print('Hello world!')"
   ]
  },
  {
   "cell_type": "code",
   "execution_count": 7,
   "id": "008bf8ac",
   "metadata": {},
   "outputs": [
    {
     "name": "stdout",
     "output_type": "stream",
     "text": [
      "Hello world!\n"
     ]
    }
   ],
   "source": [
    "#print('hello!')\n",
    "print('Hello world!')"
   ]
  },
  {
   "cell_type": "code",
   "execution_count": 8,
   "id": "6f8e4b3c",
   "metadata": {},
   "outputs": [
    {
     "name": "stdout",
     "output_type": "stream",
     "text": [
      "hello!\n"
     ]
    }
   ],
   "source": [
    "print('hello!')\n",
    "#print('Hello world!')"
   ]
  },
  {
   "cell_type": "code",
   "execution_count": 9,
   "id": "09220b93",
   "metadata": {},
   "outputs": [
    {
     "name": "stdout",
     "output_type": "stream",
     "text": [
      "What is your name? Cheng chi\n",
      "hello Cheng chi\n"
     ]
    }
   ],
   "source": [
    "Name=input('What is your name? ')\n",
    "print('hello',Name) "
   ]
  },
  {
   "cell_type": "code",
   "execution_count": 11,
   "id": "6aa1d6f4",
   "metadata": {},
   "outputs": [
    {
     "name": "stdout",
     "output_type": "stream",
     "text": [
      "What is your name? cheng chi\n",
      "hello cheng chi\n",
      "What is your hobby?cc\n",
      "I hve the same cc\n"
     ]
    }
   ],
   "source": [
    "Name=input('What is your name? ')\n",
    "print('hello',Name) \n",
    "hobby=input('What is your hobby?')\n",
    "print('I hve the same', hobby)\n"
   ]
  },
  {
   "cell_type": "code",
   "execution_count": 12,
   "id": "34aa51ed",
   "metadata": {},
   "outputs": [],
   "source": [
    "#V"
   ]
  },
  {
   "cell_type": "code",
   "execution_count": 13,
   "id": "df35ff96",
   "metadata": {},
   "outputs": [
    {
     "name": "stdout",
     "output_type": "stream",
     "text": [
      "What is your name? Cheng Chi\n",
      "hello Cheng Chi\n"
     ]
    }
   ],
   "source": [
    "Name=input('What is your name? ')\n",
    "print('hello',Name) "
   ]
  },
  {
   "cell_type": "code",
   "execution_count": 14,
   "id": "940d294f",
   "metadata": {},
   "outputs": [
    {
     "name": "stdout",
     "output_type": "stream",
     "text": [
      "What is your name? Emma\n",
      "hello Emma\n"
     ]
    }
   ],
   "source": [
    "Name=input('What is your name? ')\n",
    "print('hello',Name)"
   ]
  },
  {
   "cell_type": "code",
   "execution_count": 15,
   "id": "e60a838f",
   "metadata": {},
   "outputs": [
    {
     "name": "stdout",
     "output_type": "stream",
     "text": [
      "What is your name? Ian\n",
      "hello Ian\n"
     ]
    }
   ],
   "source": [
    "Name=input('What is your name? ')\n",
    "print('hello',Name)"
   ]
  },
  {
   "cell_type": "code",
   "execution_count": 17,
   "id": "13504d01",
   "metadata": {},
   "outputs": [
    {
     "name": "stdout",
     "output_type": "stream",
     "text": [
      "Now I'm a string!\n"
     ]
    }
   ],
   "source": [
    "x = 10\n",
    "x = \"Now I'm a string!\"\n",
    "print(x)"
   ]
  },
  {
   "cell_type": "code",
   "execution_count": 18,
   "id": "c7bb6395",
   "metadata": {},
   "outputs": [
    {
     "name": "stdout",
     "output_type": "stream",
     "text": [
      "10\n"
     ]
    }
   ],
   "source": [
    "x = 10\n",
    "#x = \"Now I'm a string!\"\n",
    "print(x)"
   ]
  },
  {
   "cell_type": "code",
   "execution_count": 19,
   "id": "e8851a86",
   "metadata": {},
   "outputs": [
    {
     "name": "stdout",
     "output_type": "stream",
     "text": [
      "What is your name? Cheng Chi\n",
      "hello Cheng Chi\n",
      "What is your hobby?Swimming\n",
      "I like it too !\n"
     ]
    }
   ],
   "source": [
    "Name=input('What is your name? ')\n",
    "print('hello',Name)\n",
    "Hobby=input('What is your hobby?')\n",
    "print('I like it too !')"
   ]
  },
  {
   "cell_type": "code",
   "execution_count": null,
   "id": "5c29acc2",
   "metadata": {},
   "outputs": [],
   "source": [
    "#Lab: collect input for favorite food and then you design a response for that."
   ]
  },
  {
   "cell_type": "code",
   "execution_count": 20,
   "id": "f6705a74",
   "metadata": {},
   "outputs": [
    {
     "name": "stdout",
     "output_type": "stream",
     "text": [
      "What is your name? Cheng Chi\n",
      "hello Cheng Chi\n",
      "What is your hobby?swimming\n",
      "I like it too !\n",
      "What is your favorite food?pizza\n",
      "pizza is Yummy!\n"
     ]
    }
   ],
   "source": [
    "Name=input('What is your name? ')\n",
    "print('hello',Name)\n",
    "Hobby=input('What is your hobby?')\n",
    "print('I like it too !')\n",
    "Food=input('What is your favorite food?')\n",
    "print(Food,'is Yummy!')"
   ]
  },
  {
   "cell_type": "code",
   "execution_count": 21,
   "id": "74255b9c",
   "metadata": {},
   "outputs": [
    {
     "name": "stdout",
     "output_type": "stream",
     "text": [
      "What is your favorite food?Pizza\n",
      "Food is Yummy!\n"
     ]
    }
   ],
   "source": [
    "Food=input('What is your favorite food?')\n",
    "print('Food is Yummy!')"
   ]
  },
  {
   "cell_type": "code",
   "execution_count": 22,
   "id": "88f08f18",
   "metadata": {},
   "outputs": [
    {
     "name": "stdout",
     "output_type": "stream",
     "text": [
      "What is your favorite food?Pizza\n"
     ]
    },
    {
     "ename": "NameError",
     "evalue": "name 'food' is not defined",
     "output_type": "error",
     "traceback": [
      "\u001b[1;31m---------------------------------------------------------------------------\u001b[0m",
      "\u001b[1;31mNameError\u001b[0m                                 Traceback (most recent call last)",
      "Cell \u001b[1;32mIn[22], line 2\u001b[0m\n\u001b[0;32m      1\u001b[0m Food\u001b[38;5;241m=\u001b[39m\u001b[38;5;28minput\u001b[39m(\u001b[38;5;124m'\u001b[39m\u001b[38;5;124mWhat is your favorite food?\u001b[39m\u001b[38;5;124m'\u001b[39m)\n\u001b[1;32m----> 2\u001b[0m \u001b[38;5;28mprint\u001b[39m(food,\u001b[38;5;124m'\u001b[39m\u001b[38;5;124mis Yummy!\u001b[39m\u001b[38;5;124m'\u001b[39m)\n",
      "\u001b[1;31mNameError\u001b[0m: name 'food' is not defined"
     ]
    }
   ],
   "source": [
    "Food=input('What is your favorite food?')\n",
    "print(food,'is Yummy!')"
   ]
  },
  {
   "cell_type": "code",
   "execution_count": 23,
   "id": "fb25a790",
   "metadata": {},
   "outputs": [
    {
     "data": {
      "text/plain": [
       "str"
      ]
     },
     "execution_count": 23,
     "metadata": {},
     "output_type": "execute_result"
    }
   ],
   "source": [
    "type('swim')"
   ]
  },
  {
   "cell_type": "code",
   "execution_count": 24,
   "id": "353d2360",
   "metadata": {},
   "outputs": [
    {
     "data": {
      "text/plain": [
       "int"
      ]
     },
     "execution_count": 24,
     "metadata": {},
     "output_type": "execute_result"
    }
   ],
   "source": [
    "type(-5)"
   ]
  },
  {
   "cell_type": "code",
   "execution_count": 25,
   "id": "57c99f70",
   "metadata": {},
   "outputs": [
    {
     "data": {
      "text/plain": [
       "float"
      ]
     },
     "execution_count": 25,
     "metadata": {},
     "output_type": "execute_result"
    }
   ],
   "source": [
    "type(-5.0)"
   ]
  },
  {
   "cell_type": "code",
   "execution_count": 26,
   "id": "7a6949a7",
   "metadata": {},
   "outputs": [
    {
     "data": {
      "text/plain": [
       "str"
      ]
     },
     "execution_count": 26,
     "metadata": {},
     "output_type": "execute_result"
    }
   ],
   "source": [
    "type('pizza')\n"
   ]
  },
  {
   "cell_type": "code",
   "execution_count": 27,
   "id": "5d8179b2",
   "metadata": {},
   "outputs": [
    {
     "data": {
      "text/plain": [
       "str"
      ]
     },
     "execution_count": 27,
     "metadata": {},
     "output_type": "execute_result"
    }
   ],
   "source": [
    "type('10')"
   ]
  },
  {
   "cell_type": "code",
   "execution_count": 28,
   "id": "d9dcf821",
   "metadata": {},
   "outputs": [
    {
     "data": {
      "text/plain": [
       "int"
      ]
     },
     "execution_count": 28,
     "metadata": {},
     "output_type": "execute_result"
    }
   ],
   "source": [
    "type(10)"
   ]
  },
  {
   "cell_type": "code",
   "execution_count": null,
   "id": "a9308c61",
   "metadata": {},
   "outputs": [],
   "source": []
  }
 ],
 "metadata": {
  "kernelspec": {
   "display_name": "Python 3 (ipykernel)",
   "language": "python",
   "name": "python3"
  },
  "language_info": {
   "codemirror_mode": {
    "name": "ipython",
    "version": 3
   },
   "file_extension": ".py",
   "mimetype": "text/x-python",
   "name": "python",
   "nbconvert_exporter": "python",
   "pygments_lexer": "ipython3",
   "version": "3.11.5"
  }
 },
 "nbformat": 4,
 "nbformat_minor": 5
}
