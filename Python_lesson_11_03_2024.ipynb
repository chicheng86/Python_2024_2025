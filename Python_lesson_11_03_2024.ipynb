{
 "cells": [
  {
   "cell_type": "code",
   "execution_count": 1,
   "id": "6c62ceeb",
   "metadata": {},
   "outputs": [
    {
     "ename": "SyntaxError",
     "evalue": "invalid syntax. Maybe you meant '==' or ':=' instead of '='? (4228907729.py, line 2)",
     "output_type": "error",
     "traceback": [
      "\u001b[1;36m  Cell \u001b[1;32mIn[1], line 2\u001b[1;36m\u001b[0m\n\u001b[1;33m    if weather='sunny':\u001b[0m\n\u001b[1;37m       ^\u001b[0m\n\u001b[1;31mSyntaxError\u001b[0m\u001b[1;31m:\u001b[0m invalid syntax. Maybe you meant '==' or ':=' instead of '='?\n"
     ]
    }
   ],
   "source": [
    "#conditional statement\n",
    "if weather='sunny':\n",
    "    print('put your sunscreen on!')"
   ]
  },
  {
   "cell_type": "code",
   "execution_count": 2,
   "id": "a216581b",
   "metadata": {},
   "outputs": [
    {
     "name": "stdout",
     "output_type": "stream",
     "text": [
      "put your sunscreen on!\n"
     ]
    }
   ],
   "source": [
    "weather='sunny'\n",
    "if weather=='sunny':\n",
    "    print('put your sunscreen on!')\n"
   ]
  },
  {
   "cell_type": "code",
   "execution_count": 3,
   "id": "03a2fcaf",
   "metadata": {},
   "outputs": [
    {
     "data": {
      "text/plain": [
       "True"
      ]
     },
     "execution_count": 3,
     "metadata": {},
     "output_type": "execute_result"
    }
   ],
   "source": [
    "weather='sunny'  # '=' is assignment\n",
    "weather=='sunny' # '==' is to compare"
   ]
  },
  {
   "cell_type": "code",
   "execution_count": 4,
   "id": "df4e7de6",
   "metadata": {},
   "outputs": [
    {
     "data": {
      "text/plain": [
       "False"
      ]
     },
     "execution_count": 4,
     "metadata": {},
     "output_type": "execute_result"
    }
   ],
   "source": [
    "weather='rainy'  # '=' is assignment\n",
    "weather=='sunny'"
   ]
  },
  {
   "cell_type": "code",
   "execution_count": 5,
   "id": "c228b53f",
   "metadata": {},
   "outputs": [
    {
     "name": "stdout",
     "output_type": "stream",
     "text": [
      "Bring your umbrella!\n"
     ]
    }
   ],
   "source": [
    "weather='rainy'\n",
    "if weather=='rainy':\n",
    "    print('Bring your umbrella!')"
   ]
  },
  {
   "cell_type": "code",
   "execution_count": 7,
   "id": "9e49db7e",
   "metadata": {},
   "outputs": [
    {
     "name": "stdout",
     "output_type": "stream",
     "text": [
      "No worries!\n"
     ]
    }
   ],
   "source": [
    "weather='sunny'\n",
    "if weather=='rainy':\n",
    "    print('Bring your umbrella!')\n",
    "else:\n",
    "    print('No worries!')"
   ]
  },
  {
   "cell_type": "code",
   "execution_count": 10,
   "id": "e46e92b2",
   "metadata": {},
   "outputs": [
    {
     "name": "stdout",
     "output_type": "stream",
     "text": [
      "I dont like rainy days!\n",
      "Bring your umbrella!\n"
     ]
    }
   ],
   "source": [
    "weather='rainy'\n",
    "if weather=='rainy':\n",
    "    print('I dont like rainy days!')\n",
    "    print('Bring your umbrella!')    \n",
    "else:\n",
    "    print('No worries!')"
   ]
  },
  {
   "cell_type": "code",
   "execution_count": 11,
   "id": "e6428f0d",
   "metadata": {},
   "outputs": [
    {
     "data": {
      "text/plain": [
       "False"
      ]
     },
     "execution_count": 11,
     "metadata": {},
     "output_type": "execute_result"
    }
   ],
   "source": [
    "4>6"
   ]
  },
  {
   "cell_type": "code",
   "execution_count": 12,
   "id": "3bba6632",
   "metadata": {},
   "outputs": [
    {
     "data": {
      "text/plain": [
       "False"
      ]
     },
     "execution_count": 12,
     "metadata": {},
     "output_type": "execute_result"
    }
   ],
   "source": [
    "25*34>1000"
   ]
  },
  {
   "cell_type": "code",
   "execution_count": 15,
   "id": "6a24c442",
   "metadata": {},
   "outputs": [
    {
     "name": "stdout",
     "output_type": "stream",
     "text": [
      "put your sunscreen on!\n"
     ]
    }
   ],
   "source": [
    "weather='sunny'\n",
    "if weather=='rainy':\n",
    "    #print('I dont like rainy days!')\n",
    "    print('Bring your umbrella!')\n",
    "elif weather=='sunny':\n",
    "    print('put your sunscreen on!')\n",
    "else:\n",
    "    print('No worries!')"
   ]
  },
  {
   "cell_type": "code",
   "execution_count": null,
   "id": "513d458e",
   "metadata": {},
   "outputs": [],
   "source": []
  }
 ],
 "metadata": {
  "kernelspec": {
   "display_name": "Python 3 (ipykernel)",
   "language": "python",
   "name": "python3"
  },
  "language_info": {
   "codemirror_mode": {
    "name": "ipython",
    "version": 3
   },
   "file_extension": ".py",
   "mimetype": "text/x-python",
   "name": "python",
   "nbconvert_exporter": "python",
   "pygments_lexer": "ipython3",
   "version": "3.11.5"
  }
 },
 "nbformat": 4,
 "nbformat_minor": 5
}
