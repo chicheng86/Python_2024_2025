{
 "cells": [
  {
   "cell_type": "markdown",
   "id": "47dfda88",
   "metadata": {},
   "source": [
    "# recap \n",
    "How computers remember things: We discussed the basics of memory and how computers store and retrieve information.\n",
    "What is a variable and value: We explored how variables are used to store data in programming, and how values can be assigned to them.\n",
    "Data types: We learned about three basic data types in Python:\n",
    "str (for text),\n",
    "int (for whole numbers),\n",
    "float (for decimal numbers)."
   ]
  },
  {
   "cell_type": "code",
   "execution_count": 1,
   "id": "d531f48f",
   "metadata": {},
   "outputs": [
    {
     "data": {
      "text/plain": [
       "float"
      ]
     },
     "execution_count": 1,
     "metadata": {},
     "output_type": "execute_result"
    }
   ],
   "source": [
    "type(7.0)"
   ]
  },
  {
   "cell_type": "code",
   "execution_count": 2,
   "id": "8034bf6c",
   "metadata": {},
   "outputs": [
    {
     "data": {
      "text/plain": [
       "int"
      ]
     },
     "execution_count": 2,
     "metadata": {},
     "output_type": "execute_result"
    }
   ],
   "source": [
    "type(7)"
   ]
  },
  {
   "cell_type": "code",
   "execution_count": 4,
   "id": "3b113164",
   "metadata": {},
   "outputs": [
    {
     "name": "stdout",
     "output_type": "stream",
     "text": [
      "9\n"
     ]
    }
   ],
   "source": [
    "# How to assign a value to a variable\n",
    "x=9\n",
    "print(x)"
   ]
  },
  {
   "cell_type": "code",
   "execution_count": 5,
   "id": "28c36c37",
   "metadata": {},
   "outputs": [
    {
     "name": "stdout",
     "output_type": "stream",
     "text": [
      "apple\n"
     ]
    }
   ],
   "source": [
    "x=9\n",
    "x='apple'\n",
    "print(x)"
   ]
  },
  {
   "cell_type": "code",
   "execution_count": 6,
   "id": "7b3d0152",
   "metadata": {},
   "outputs": [
    {
     "name": "stdout",
     "output_type": "stream",
     "text": [
      "1.032\n"
     ]
    }
   ],
   "source": [
    "x=9\n",
    "x='apple'\n",
    "x=109\n",
    "x=1.032\n",
    "print(x)"
   ]
  },
  {
   "cell_type": "code",
   "execution_count": 7,
   "id": "033bc1d3",
   "metadata": {},
   "outputs": [
    {
     "name": "stdout",
     "output_type": "stream",
     "text": [
      "What is your name?Cheng Chi\n",
      "welcome to class Cheng Chi\n",
      "What is your favorite food?Noodle\n",
      "I like Noodle too!\n"
     ]
    }
   ],
   "source": [
    "# the importance of give a meaningful variable name.\n",
    "x=input('What is your name?')\n",
    "print('welcome to class',x)\n",
    "y=input('What is your favorite food?')\n",
    "print('I like',y,'too!')"
   ]
  },
  {
   "cell_type": "code",
   "execution_count": 8,
   "id": "2eb9b176",
   "metadata": {},
   "outputs": [
    {
     "name": "stdout",
     "output_type": "stream",
     "text": [
      "What is your name?Cheng Chi\n",
      "welcome to class Cheng Chi\n",
      "What is your favorite food?Noodle\n",
      "I like Noodle too!\n"
     ]
    }
   ],
   "source": [
    "# the importance of give a meaningful variable name.\n",
    "name=input('What is your name?')\n",
    "print('welcome to class',name)\n",
    "food=input('What is your favorite food?')\n",
    "print('I like',food,'too!')"
   ]
  },
  {
   "cell_type": "code",
   "execution_count": 9,
   "id": "144381b3",
   "metadata": {},
   "outputs": [
    {
     "data": {
      "text/plain": [
       "str"
      ]
     },
     "execution_count": 9,
     "metadata": {},
     "output_type": "execute_result"
    }
   ],
   "source": [
    "type(name)"
   ]
  },
  {
   "cell_type": "code",
   "execution_count": null,
   "id": "c2e64cae",
   "metadata": {},
   "outputs": [],
   "source": [
    "# examples to call a function\n",
    "input('What is your name?')\n",
    "print('welcome to class',name)\n",
    "type(name)"
   ]
  },
  {
   "cell_type": "code",
   "execution_count": 10,
   "id": "c5456ada",
   "metadata": {},
   "outputs": [
    {
     "name": "stdout",
     "output_type": "stream",
     "text": [
      "How old are you?25\n"
     ]
    },
    {
     "ename": "TypeError",
     "evalue": "unsupported operand type(s) for -: 'str' and 'int'",
     "output_type": "error",
     "traceback": [
      "\u001b[1;31m---------------------------------------------------------------------------\u001b[0m",
      "\u001b[1;31mTypeError\u001b[0m                                 Traceback (most recent call last)",
      "Cell \u001b[1;32mIn[10], line 2\u001b[0m\n\u001b[0;32m      1\u001b[0m age\u001b[38;5;241m=\u001b[39m\u001b[38;5;28minput\u001b[39m(\u001b[38;5;124m'\u001b[39m\u001b[38;5;124mHow old are you?\u001b[39m\u001b[38;5;124m'\u001b[39m)\n\u001b[1;32m----> 2\u001b[0m age_difference\u001b[38;5;241m=\u001b[39mage\u001b[38;5;241m-\u001b[39m\u001b[38;5;241m11\u001b[39m\n\u001b[0;32m      3\u001b[0m \u001b[38;5;28mprint\u001b[39m(\u001b[38;5;124m'\u001b[39m\u001b[38;5;124mYou are\u001b[39m\u001b[38;5;124m'\u001b[39m, age_difference,\u001b[38;5;124m'\u001b[39m\u001b[38;5;124molder than my daughter\u001b[39m\u001b[38;5;124m'\u001b[39m)\n",
      "\u001b[1;31mTypeError\u001b[0m: unsupported operand type(s) for -: 'str' and 'int'"
     ]
    }
   ],
   "source": [
    "age=input('How old are you?')\n",
    "age_difference=age-11\n",
    "print('You are', age_difference,'years older than my daughter.')"
   ]
  },
  {
   "cell_type": "code",
   "execution_count": 12,
   "id": "a7f5667b",
   "metadata": {},
   "outputs": [
    {
     "name": "stdout",
     "output_type": "stream",
     "text": [
      "14\n"
     ]
    }
   ],
   "source": [
    "age='25'\n",
    "age=int(age)\n",
    "age_difference=age-11\n",
    "print(age_difference)"
   ]
  },
  {
   "cell_type": "code",
   "execution_count": null,
   "id": "920224f8",
   "metadata": {},
   "outputs": [],
   "source": []
  },
  {
   "cell_type": "markdown",
   "id": "7484924c",
   "metadata": {},
   "source": [
    "# How to change data types in Python."
   ]
  },
  {
   "cell_type": "markdown",
   "id": "fe347f09",
   "metadata": {},
   "source": [
    "age=input('How old are you?')\n",
    "age=int(age)  # change the data type from str to int\n",
    "age_difference=age-11\n",
    "print('You are', age_difference,'years older than my daughter.')"
   ]
  },
  {
   "cell_type": "markdown",
   "id": "0b241542",
   "metadata": {},
   "source": [
    "# How to leverage Python for mathematical calculations."
   ]
  },
  {
   "cell_type": "code",
   "execution_count": 16,
   "id": "ea8452a6",
   "metadata": {},
   "outputs": [
    {
     "data": {
      "text/plain": [
       "2.8903982"
      ]
     },
     "execution_count": 16,
     "metadata": {},
     "output_type": "execute_result"
    }
   ],
   "source": [
    "1.234*2.3423"
   ]
  },
  {
   "cell_type": "code",
   "execution_count": 19,
   "id": "e52c023e",
   "metadata": {},
   "outputs": [
    {
     "name": "stdout",
     "output_type": "stream",
     "text": [
      "2.44703449\n"
     ]
    }
   ],
   "source": [
    "num = 1.5643\n",
    "square = pow(num, 2)\n",
    "print(square) \n"
   ]
  },
  {
   "cell_type": "code",
   "execution_count": 20,
   "id": "1924c014",
   "metadata": {},
   "outputs": [
    {
     "data": {
      "text/plain": [
       "0.010683760683760684"
      ]
     },
     "execution_count": 20,
     "metadata": {},
     "output_type": "execute_result"
    }
   ],
   "source": [
    "2.5/234"
   ]
  },
  {
   "cell_type": "code",
   "execution_count": 26,
   "id": "c4d08a28",
   "metadata": {},
   "outputs": [
    {
     "name": "stdout",
     "output_type": "stream",
     "text": [
      "18\n"
     ]
    }
   ],
   "source": [
    "width=3\n",
    "lenth=5\n",
    "area=width*lenth\n",
    "print(area)"
   ]
  },
  {
   "cell_type": "code",
   "execution_count": 24,
   "id": "e1626e8b",
   "metadata": {},
   "outputs": [
    {
     "data": {
      "text/plain": [
       "16"
      ]
     },
     "execution_count": 24,
     "metadata": {},
     "output_type": "execute_result"
    }
   ],
   "source": [
    "2*8"
   ]
  },
  {
   "cell_type": "code",
   "execution_count": null,
   "id": "3a83861c",
   "metadata": {},
   "outputs": [],
   "source": []
  }
 ],
 "metadata": {
  "kernelspec": {
   "display_name": "Python 3 (ipykernel)",
   "language": "python",
   "name": "python3"
  },
  "language_info": {
   "codemirror_mode": {
    "name": "ipython",
    "version": 3
   },
   "file_extension": ".py",
   "mimetype": "text/x-python",
   "name": "python",
   "nbconvert_exporter": "python",
   "pygments_lexer": "ipython3",
   "version": "3.11.5"
  }
 },
 "nbformat": 4,
 "nbformat_minor": 5
}
