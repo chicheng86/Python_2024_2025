{
 "cells": [
  {
   "cell_type": "code",
   "execution_count": 1,
   "id": "efa7742c",
   "metadata": {},
   "outputs": [
    {
     "data": {
      "text/plain": [
       "str"
      ]
     },
     "execution_count": 1,
     "metadata": {},
     "output_type": "execute_result"
    }
   ],
   "source": [
    "type('hello')"
   ]
  },
  {
   "cell_type": "code",
   "execution_count": 2,
   "id": "0218b77d",
   "metadata": {},
   "outputs": [
    {
     "data": {
      "text/plain": [
       "float"
      ]
     },
     "execution_count": 2,
     "metadata": {},
     "output_type": "execute_result"
    }
   ],
   "source": [
    "type(3.14)"
   ]
  },
  {
   "cell_type": "code",
   "execution_count": 3,
   "id": "acd191ec",
   "metadata": {},
   "outputs": [
    {
     "data": {
      "text/plain": [
       "str"
      ]
     },
     "execution_count": 3,
     "metadata": {},
     "output_type": "execute_result"
    }
   ],
   "source": [
    "type('3.14')"
   ]
  },
  {
   "cell_type": "code",
   "execution_count": 5,
   "id": "a8f07493",
   "metadata": {},
   "outputs": [],
   "source": [
    "x=3.5\n",
    "# Variable(x)=value(3.5)\n",
    "x=2.5"
   ]
  },
  {
   "cell_type": "code",
   "execution_count": 6,
   "id": "214ce757",
   "metadata": {},
   "outputs": [
    {
     "name": "stdout",
     "output_type": "stream",
     "text": [
      "2.5\n"
     ]
    }
   ],
   "source": [
    "print(x)"
   ]
  },
  {
   "cell_type": "code",
   "execution_count": 7,
   "id": "8534620e",
   "metadata": {},
   "outputs": [
    {
     "data": {
      "text/plain": [
       "float"
      ]
     },
     "execution_count": 7,
     "metadata": {},
     "output_type": "execute_result"
    }
   ],
   "source": [
    "type(x)"
   ]
  },
  {
   "cell_type": "code",
   "execution_count": 8,
   "id": "77685bb9",
   "metadata": {},
   "outputs": [
    {
     "name": "stdout",
     "output_type": "stream",
     "text": [
      "2.5\n"
     ]
    },
    {
     "data": {
      "text/plain": [
       "str"
      ]
     },
     "execution_count": 8,
     "metadata": {},
     "output_type": "execute_result"
    }
   ],
   "source": [
    "x=str(x)\n",
    "print(x)\n",
    "type(x)"
   ]
  },
  {
   "cell_type": "code",
   "execution_count": 10,
   "id": "38f2cd6c",
   "metadata": {},
   "outputs": [
    {
     "name": "stdout",
     "output_type": "stream",
     "text": [
      "3.14\n"
     ]
    },
    {
     "data": {
      "text/plain": [
       "float"
      ]
     },
     "execution_count": 10,
     "metadata": {},
     "output_type": "execute_result"
    }
   ],
   "source": [
    "y=('3.14')\n",
    "y=float(y)\n",
    "print(y)\n",
    "type(y)"
   ]
  },
  {
   "cell_type": "code",
   "execution_count": 11,
   "id": "47f5e236",
   "metadata": {},
   "outputs": [],
   "source": [
    "def area():\n",
    "    w=3\n",
    "    l=5\n",
    "    area=w*l\n",
    "    print(area)\n",
    "    "
   ]
  },
  {
   "cell_type": "code",
   "execution_count": 12,
   "id": "ffcca35a",
   "metadata": {},
   "outputs": [
    {
     "name": "stdout",
     "output_type": "stream",
     "text": [
      "15\n"
     ]
    }
   ],
   "source": [
    "area()"
   ]
  },
  {
   "cell_type": "code",
   "execution_count": 13,
   "id": "3ac5d1d9",
   "metadata": {},
   "outputs": [],
   "source": [
    "def area2(w,l):\n",
    "    #w=3\n",
    "    #l=5\n",
    "    area=w*l\n",
    "    print(area)"
   ]
  },
  {
   "cell_type": "code",
   "execution_count": 14,
   "id": "c2502ef5",
   "metadata": {},
   "outputs": [
    {
     "ename": "NameError",
     "evalue": "name 'w' is not defined",
     "output_type": "error",
     "traceback": [
      "\u001b[1;31m---------------------------------------------------------------------------\u001b[0m",
      "\u001b[1;31mNameError\u001b[0m                                 Traceback (most recent call last)",
      "Cell \u001b[1;32mIn[14], line 1\u001b[0m\n\u001b[1;32m----> 1\u001b[0m area2(w,l)\n",
      "\u001b[1;31mNameError\u001b[0m: name 'w' is not defined"
     ]
    }
   ],
   "source": [
    "area2(w,l)"
   ]
  },
  {
   "cell_type": "code",
   "execution_count": 15,
   "id": "0e949704",
   "metadata": {},
   "outputs": [
    {
     "name": "stdout",
     "output_type": "stream",
     "text": [
      "8\n"
     ]
    }
   ],
   "source": [
    "area2(2,4)"
   ]
  },
  {
   "cell_type": "code",
   "execution_count": 16,
   "id": "1ab1e4ad",
   "metadata": {},
   "outputs": [
    {
     "name": "stdout",
     "output_type": "stream",
     "text": [
      "60\n"
     ]
    }
   ],
   "source": [
    "w=6\n",
    "l=10\n",
    "area2(w,l)"
   ]
  },
  {
   "cell_type": "code",
   "execution_count": 17,
   "id": "ce4b955f",
   "metadata": {},
   "outputs": [
    {
     "name": "stdout",
     "output_type": "stream",
     "text": [
      "what is the width of the rectagulr?4\n"
     ]
    }
   ],
   "source": [
    "w=input('what is the width of the rectagular?')\n",
    "w=float(w)"
   ]
  },
  {
   "cell_type": "code",
   "execution_count": null,
   "id": "6d9f7339",
   "metadata": {},
   "outputs": [],
   "source": [
    "l=input('what is the length of the rectagular?')\n",
    "l=float(l)"
   ]
  },
  {
   "cell_type": "code",
   "execution_count": 20,
   "id": "0852a1b7",
   "metadata": {},
   "outputs": [
    {
     "name": "stdout",
     "output_type": "stream",
     "text": [
      "what is the width of the rectagular?15\n",
      "what is the length of the rectagular?3\n",
      "The area of your rectagular is 45.0\n"
     ]
    }
   ],
   "source": [
    "w=input('what is the width of the rectagular?')\n",
    "w=float(w)\n",
    "l=input('what is the length of the rectagular?')\n",
    "l=float(l)\n",
    "\n",
    "def area3(w,l):\n",
    "    area=w*l\n",
    "    print('The area of your rectagular is',area)\n",
    "    \n",
    "area3(w,l)"
   ]
  },
  {
   "cell_type": "code",
   "execution_count": 18,
   "id": "54bbf5de",
   "metadata": {},
   "outputs": [
    {
     "name": "stdout",
     "output_type": "stream",
     "text": [
      "what is the width of the rectagular?3.5\n",
      "what is the length of the rectagular?4\n",
      "The area of your rectagular is 14.0\n"
     ]
    }
   ],
   "source": [
    "def area4():\n",
    "    w=input('what is the width of the rectagular?')\n",
    "    w=float(w)\n",
    "    l=input('what is the length of the rectagular?')\n",
    "    l=float(l)\n",
    "    area=w*l\n",
    "    print('The area of your rectagular is',area)\n",
    "area4()"
   ]
  },
  {
   "cell_type": "code",
   "execution_count": null,
   "id": "643a8505",
   "metadata": {},
   "outputs": [],
   "source": []
  }
 ],
 "metadata": {
  "kernelspec": {
   "display_name": "Python 3 (ipykernel)",
   "language": "python",
   "name": "python3"
  },
  "language_info": {
   "codemirror_mode": {
    "name": "ipython",
    "version": 3
   },
   "file_extension": ".py",
   "mimetype": "text/x-python",
   "name": "python",
   "nbconvert_exporter": "python",
   "pygments_lexer": "ipython3",
   "version": "3.11.5"
  }
 },
 "nbformat": 4,
 "nbformat_minor": 5
}
