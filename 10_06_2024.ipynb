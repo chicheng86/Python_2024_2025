{
 "cells": [
  {
   "cell_type": "markdown",
   "id": "68f4f94f",
   "metadata": {},
   "source": [
    "# Functions in Python are blocks of reusable code that perform a specific task. They help to break down complex programs into smaller, manageable parts, making the code more readable and maintainable. Functions can accept inputs known as parameters and can return outputs."
   ]
  },
  {
   "cell_type": "code",
   "execution_count": 2,
   "id": "4314187a",
   "metadata": {},
   "outputs": [
    {
     "name": "stdout",
     "output_type": "stream",
     "text": [
      "hello\n"
     ]
    }
   ],
   "source": [
    "print('hello')"
   ]
  },
  {
   "cell_type": "code",
   "execution_count": 3,
   "id": "0ef85a0b",
   "metadata": {},
   "outputs": [
    {
     "name": "stdout",
     "output_type": "stream",
     "text": [
      "what i your name?Cheng Chi\n",
      "hello, nice to meet you Cheng Chi\n"
     ]
    }
   ],
   "source": [
    "name=input('what is your name?')\n",
    "print('hello, nice to meet you',name)"
   ]
  },
  {
   "cell_type": "code",
   "execution_count": 5,
   "id": "05d10223",
   "metadata": {},
   "outputs": [
    {
     "name": "stdout",
     "output_type": "stream",
     "text": [
      "what is your favorite food?pizz\n",
      "i like pizz too !\n"
     ]
    }
   ],
   "source": [
    "food=input('what is your favorite food?')\n",
    "print('i like',food,'too !')"
   ]
  },
  {
   "cell_type": "code",
   "execution_count": 7,
   "id": "8c0ac4b8",
   "metadata": {},
   "outputs": [],
   "source": [
    "def introduce_yourself():   #header to define  a function\n",
    "    print('hello')\n",
    "    name=input('what is your name?')\n",
    "    print('hello, nice to meet you',name)\n",
    "    food=input('what is your favorite food?')\n",
    "    print('i like',food,'too !')"
   ]
  },
  {
   "cell_type": "code",
   "execution_count": 8,
   "id": "f1e5d9bf",
   "metadata": {
    "scrolled": true
   },
   "outputs": [
    {
     "name": "stdout",
     "output_type": "stream",
     "text": [
      "hello\n",
      "what is your name?Cheng Chi\n",
      "hello, nice to meet you Cheng Chi\n",
      "what is your favorite food?Pizza\n",
      "i like Pizza too !\n"
     ]
    }
   ],
   "source": [
    "introduce_yourself()"
   ]
  },
  {
   "cell_type": "code",
   "execution_count": 9,
   "id": "54919e41",
   "metadata": {},
   "outputs": [
    {
     "name": "stdout",
     "output_type": "stream",
     "text": [
      "hello\n",
      "what is your name?Ian\n",
      "hello, nice to meet you Ian\n",
      "what is your favorite food?noodle\n",
      "i like noodle too !\n"
     ]
    }
   ],
   "source": [
    "introduce_yourself()"
   ]
  },
  {
   "cell_type": "code",
   "execution_count": 10,
   "id": "d8fedaba",
   "metadata": {},
   "outputs": [
    {
     "name": "stdout",
     "output_type": "stream",
     "text": [
      "hello\n",
      "what is your name?Cheng Chi\n",
      "hello, nice to meet you Cheng Chi\n",
      "what is your favorite food?pizza\n",
      "i like pizza too !\n"
     ]
    }
   ],
   "source": [
    "def introduce_yourself():   #header to define  a function\n",
    "    print('hello')\n",
    "    name=input('what is your name?')\n",
    "    print('hello, nice to meet you',name)\n",
    "    food=input('what is your favorite food?')\n",
    "    print('i like',food,'too !')\n",
    "introduce_yourself()"
   ]
  },
  {
   "cell_type": "code",
   "execution_count": 11,
   "id": "d657f901",
   "metadata": {
    "scrolled": true
   },
   "outputs": [
    {
     "name": "stdout",
     "output_type": "stream",
     "text": [
      "i like pizz too !\n",
      "hello\n",
      "what is your name?Cheng Chi\n",
      "hello, nice to meet you Cheng Chi\n",
      "what is your favorite food?noodle\n"
     ]
    }
   ],
   "source": [
    "def introduce_yourself():   #header to define  a function\n",
    "    print('hello')\n",
    "    name=input('what is your name?')\n",
    "    print('hello, nice to meet you',name)\n",
    "    food=input('what is your favorite food?')\n",
    "print('i like',food,'too !')\n",
    "introduce_yourself()"
   ]
  },
  {
   "cell_type": "code",
   "execution_count": 12,
   "id": "84ff24ae",
   "metadata": {},
   "outputs": [
    {
     "name": "stdout",
     "output_type": "stream",
     "text": [
      "30\n"
     ]
    }
   ],
   "source": [
    "width=3\n",
    "length=10\n",
    "area=width*length \n",
    "print(area)"
   ]
  },
  {
   "cell_type": "code",
   "execution_count": 13,
   "id": "14797a26",
   "metadata": {},
   "outputs": [
    {
     "name": "stdout",
     "output_type": "stream",
     "text": [
      "30\n"
     ]
    }
   ],
   "source": [
    "def area():\n",
    "    width=3\n",
    "    length=10\n",
    "    area=width*length \n",
    "    print(area)\n",
    "area()\n",
    "    "
   ]
  },
  {
   "cell_type": "code",
   "execution_count": 14,
   "id": "00ba8af6",
   "metadata": {},
   "outputs": [],
   "source": [
    "def area2(width,length):\n",
    "    area=width*length \n",
    "    print(area)\n",
    "    "
   ]
  },
  {
   "cell_type": "code",
   "execution_count": 15,
   "id": "9e4515c0",
   "metadata": {},
   "outputs": [
    {
     "name": "stdout",
     "output_type": "stream",
     "text": [
      "16\n"
     ]
    }
   ],
   "source": [
    "area2(2,8)"
   ]
  },
  {
   "cell_type": "code",
   "execution_count": 16,
   "id": "469aa47a",
   "metadata": {},
   "outputs": [
    {
     "name": "stdout",
     "output_type": "stream",
     "text": [
      "15\n"
     ]
    }
   ],
   "source": [
    "area2(3,5)"
   ]
  },
  {
   "cell_type": "code",
   "execution_count": null,
   "id": "c35db4b7",
   "metadata": {},
   "outputs": [],
   "source": []
  }
 ],
 "metadata": {
  "kernelspec": {
   "display_name": "Python 3 (ipykernel)",
   "language": "python",
   "name": "python3"
  },
  "language_info": {
   "codemirror_mode": {
    "name": "ipython",
    "version": 3
   },
   "file_extension": ".py",
   "mimetype": "text/x-python",
   "name": "python",
   "nbconvert_exporter": "python",
   "pygments_lexer": "ipython3",
   "version": "3.11.5"
  }
 },
 "nbformat": 4,
 "nbformat_minor": 5
}
